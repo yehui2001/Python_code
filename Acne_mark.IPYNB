{
 "cells": [
  {
   "cell_type": "code",
   "execution_count": 4,
   "metadata": {},
   "outputs": [],
   "source": [
    "import cv2\n",
    "import numpy as np\n",
    "global img, point\n",
    "global inpaintMask\n",
    "#手动祛痘\n",
    "def manual_acne(event, x, y, flags, param):\n",
    "    global img, point\n",
    "    img2 = img.copy()\n",
    "    height, width, n = img.shape\n",
    "    inpaintMask = np.zeros((height, width), dtype=np.uint8)\n",
    "    if event == cv2.EVENT_LBUTTONDOWN:\n",
    "        point = (x, y)\n",
    "        cv2.circle(img2, point, 15, (0, 255, 0), -1)\n",
    "        cv2.circle(inpaintMask, point, 15, 255, -1)\n",
    "        cv2.imshow(\"image\", img2)\n",
    "    elif event == cv2.EVENT_LBUTTONUP:\n",
    "        cv2.circle(img2, point, 15, (0, 255, 0), -1)\n",
    "        cv2.circle(inpaintMask, point, 15, 255, -1)\n",
    "        cv2.imshow(\"inpaintMask\", inpaintMask)\n",
    "        cv2.imshow(\"image\", img2)\n",
    "        cv2.imshow(\"image0\", img)\n",
    "        result = cv2.inpaint(img, inpaintMask, 100, cv2.INPAINT_TELEA)\n",
    "        cv2.imshow(\"result\", result)\n",
    "\n",
    "\n",
    "if __name__ == \"__main__\":\n",
    "    img = cv2.imread(\"Images/skin.jpeg\")\n",
    "    cv2.namedWindow(\"image\")\n",
    "    cv2.setMouseCallback(\"image\", manual_acne)\n",
    "    cv2.imshow(\"image\", img)\n",
    "    cv2.waitKey()\n",
    "    cv2.destroyAllWindows()\n"
   ]
  }
 ],
 "metadata": {
  "kernelspec": {
   "display_name": "ML",
   "language": "python",
   "name": "python3"
  },
  "language_info": {
   "codemirror_mode": {
    "name": "ipython",
    "version": 3
   },
   "file_extension": ".py",
   "mimetype": "text/x-python",
   "name": "python",
   "nbconvert_exporter": "python",
   "pygments_lexer": "ipython3",
   "version": "3.9.15"
  }
 },
 "nbformat": 4,
 "nbformat_minor": 2
}
