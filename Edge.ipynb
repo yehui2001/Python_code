{
 "cells": [
  {
   "cell_type": "code",
   "execution_count": 35,
   "metadata": {},
   "outputs": [],
   "source": [
    "import cv2\n",
    "import numpy as np\n",
    "import random\n"
   ]
  },
  {
   "cell_type": "code",
   "execution_count": 36,
   "metadata": {},
   "outputs": [],
   "source": [
    "img = cv2.imread('Images/girl5.jpg')\n",
    "imgInfo = img.shape\n",
    "height = imgInfo[0]\n",
    "width = imgInfo[1]\n",
    "#cv2.imshow('empire',img)\n",
    "# canny边缘检测 1.灰度处理 2.高斯滤波 3.canny算子\n",
    "gray = cv2.cvtColor(img,cv2.COLOR_BGR2GRAY)\n",
    "# imgG = cv2.GaussianBlur(gray,(3,3),0)\n",
    "# dst = cv2.Canny(img,50,50)          # (data,th1,th2)双阈值法 大于th2为边界点 小于th1为非边界点 图片经过卷积运算之后若>50，则属于边缘点\n",
    "# cv2.imshow('dst',dst)\n",
    "# cv2.waitKey(0)"
   ]
  },
  {
   "cell_type": "code",
   "execution_count": 37,
   "metadata": {},
   "outputs": [
    {
     "data": {
      "text/plain": [
       "13"
      ]
     },
     "execution_count": 37,
     "metadata": {},
     "output_type": "execute_result"
    }
   ],
   "source": [
    "# sobel算子\n",
    "def Sobel():\n",
    "    x = cv2.Sobel(gray,cv2.CV_16S,1,0)\n",
    "    y = cv2.Sobel(gray,cv2.CV_16S,0,1)   \n",
    "\n",
    "    absX = cv2.convertScaleAbs(x)\n",
    "    absY = cv2.convertScaleAbs(y)\n",
    "\n",
    "    dst = cv2.addWeighted(absX,0.5,absY,0.5,0)\n",
    "\n",
    "    # cv2.imshow(\"absX\", absX)\n",
    "    # cv2.imshow(\"absY\", absY)\n",
    "    # cv2.imshow(\"dst\", dst)\n",
    "    # cv2.waitKey(0)\n",
    "    return dst\n",
    "Sobel()\n"
   ]
  },
  {
   "cell_type": "code",
   "execution_count": 38,
   "metadata": {},
   "outputs": [
    {
     "data": {
      "text/plain": [
       "13"
      ]
     },
     "execution_count": 38,
     "metadata": {},
     "output_type": "execute_result"
    }
   ],
   "source": [
    "# 基于sobel算子的Canny算法\n",
    "import math\n",
    "height = imgInfo[0]\n",
    "width = imgInfo[1]\n",
    "dst = np.zeros((height,width,1),np.uint8)\n",
    "grd = np.zeros((height,width,2),np.uint8)\n",
    "for i in range(0,height-2):                         # 以i j为左上角起点的3X3卷积核   sobel算子的由来平均梯度矢量 里面的距离是城市距离（D4）\n",
    "    for j in range(0,width-2):\n",
    "        gy = gray[i,j] + 2*gray[i,j+1] + gray[i,j+2] - gray[i+2,j] - 2*gray[i+2,j+1] - gray[i+2,j+2]\n",
    "        gx = gray[i,j] + 2*gray[i+1,j] + gray[i+2,j] - gray[i,j+2] - 2*gray[i+1,j+2] - gray[i+2,j+2]\n",
    "        #print(gx,gy)    \n",
    "        grd[i,j] = (abs(gx),abs(gy))                #遇到负梯度，取绝对值\n",
    "        grad = math.sqrt(gx**2 + gy**2)             # 计算梯度\n",
    "        if grad > 50:\n",
    "            dst[i,j] = 255\n",
    "        else:\n",
    "            dst[i,j] = 0\n",
    "# 改进：引入45度方向和135度方向的梯度矢量，\n",
    "cv2.imshow('dst',dst)           \n",
    "cv2.waitKey(0)\n"
   ]
  },
  {
   "cell_type": "code",
   "execution_count": 43,
   "metadata": {},
   "outputs": [],
   "source": [
    "# 图像叠加\n",
    "def reduce_Cr(img):\n",
    "    height = imgInfo[0]\n",
    "    width = imgInfo[1]\n",
    "    ycrcb = cv2.cvtColor(img,cv2.COLOR_BGR2YCrCb)\n",
    "    Y = ycrcb[:,:,0]\n",
    "    Cr = ycrcb[:,:,1]\n",
    "    Cb = ycrcb[:,:,2]\n",
    "    for i in range (0,height):\n",
    "        for j in range(0,width):\n",
    "            if(dst[i,j] == 255):\n",
    "                Cr[i,j] = Cr[i,j]*0.9\n",
    "    ycrcb[:,:,1] = Cr\n",
    "    Result = cv2.cvtColor(ycrcb,cv2.COLOR_YCrCb2BGR)\n",
    "    cv2.imshow('Result',Result)\n",
    "    cv2.waitKey(0)\n",
    "    cv2.destroyAllWindows()\n",
    "    return Result"
   ]
  },
  {
   "cell_type": "code",
   "execution_count": 40,
   "metadata": {},
   "outputs": [],
   "source": [
    "# 基于CRONE算子的边缘分割算法"
   ]
  }
 ],
 "metadata": {
  "kernelspec": {
   "display_name": "ML",
   "language": "python",
   "name": "python3"
  },
  "language_info": {
   "codemirror_mode": {
    "name": "ipython",
    "version": 3
   },
   "file_extension": ".py",
   "mimetype": "text/x-python",
   "name": "python",
   "nbconvert_exporter": "python",
   "pygments_lexer": "ipython3",
   "version": "3.9.15"
  }
 },
 "nbformat": 4,
 "nbformat_minor": 2
}
