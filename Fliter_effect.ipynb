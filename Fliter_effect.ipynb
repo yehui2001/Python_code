{
 "cells": [
  {
   "cell_type": "code",
   "execution_count": 1,
   "metadata": {},
   "outputs": [],
   "source": [
    "import cv2\n",
    "import numpy as np\n"
   ]
  },
  {
   "cell_type": "code",
   "execution_count": 2,
   "metadata": {},
   "outputs": [],
   "source": [
    "img = cv2.imread('Images/girl.jpeg',1)\n",
    "imgInfo = img.shape\n",
    "height = imgInfo[0]\n",
    "width = imgInfo[1]\n",
    "cv2.imshow('Raw',img)\n",
    "cv2.waitKey(0)\n",
    "cv2.destroyAllWindows()"
   ]
  },
  {
   "cell_type": "code",
   "execution_count": 3,
   "metadata": {},
   "outputs": [],
   "source": [
    "def retro_style(img):           # 怀旧滤镜\n",
    "    img1 = img.copy()           # 拷贝一份图像      \n",
    "    for i in range(height):\n",
    "        for j in range(width):  # j的起始值也为0。也就是说，它会从0开始遍历到width-1\n",
    "            b, g, r = img[i, j]\n",
    "            B = int(min(255, 0.272 * r + 0.534 * g + 0.131 * b))        #约束图像像素值，防止溢出\n",
    "            G = int(min(255, 0.349 * r + 0.686 * g + 0.168 * b))\n",
    "            R = int(min(255, 0.393 * r + 0.769 * g + 0.189 * b))\n",
    "            img1[i,j] = (B, G, R)\n",
    "    return img1\n",
    "img1 = retro_style(img)\n",
    "cv2.imshow('Retro_style',img1)\n",
    "cv2.waitKey(0)\n",
    "cv2.destroyAllWindows()"
   ]
  },
  {
   "cell_type": "code",
   "execution_count": 4,
   "metadata": {},
   "outputs": [],
   "source": [
    "def sketch_style(img):          # 素描滤镜\n",
    "    img2 = np.zeros((height,width),dtype='uint8')\n",
    "    gray0 = cv2.cvtColor(img,cv2.COLOR_BGR2GRAY)        # 灰度图像\n",
    "    cv2.imshow(\"gray0\",gray0)\n",
    "    gray1 = cv2.addWeighted(gray0,-1,img2,0,255,0)        # 图像叠加 取反向通道\n",
    "    cv2.imshow(\"gray1\",gray1)\n",
    "    gray2 = cv2.GaussianBlur(gray1,(15,15),50,50)         # 高斯滤波\n",
    "    cv2.imshow(\"gray2\",gray2)\n",
    "    dst = cv2.divide(gray0, 255-gray2, scale= 255)        #颜色减淡   scale代表输出值归一化到0～255范围\n",
    "    cv2.imshow('Sketch_img',dst)\n",
    "sketch_style(img)\n",
    "cv2.waitKey(0)\n",
    "cv2.destroyAllWindows()"
   ]
  },
  {
   "cell_type": "code",
   "execution_count": 10,
   "metadata": {},
   "outputs": [
    {
     "ename": "",
     "evalue": "",
     "output_type": "error",
     "traceback": [
      "\u001b[1;31m在当前单元格或上一个单元格中执行代码时 Kernel 崩溃。\n",
      "\u001b[1;31m请查看单元格中的代码，以确定故障的可能原因。\n",
      "\u001b[1;31m单击<a href='https://aka.ms/vscodeJupyterKernelCrash'>此处</a>了解详细信息。\n",
      "\u001b[1;31m有关更多详细信息，请查看 Jupyter <a href='command:jupyter.viewOutput'>log</a>。"
     ]
    }
   ],
   "source": [
    "import math\n",
    "def fleeting_style(img):           \n",
    "    img3 = np.zeros((height,width,3),dtype='uint8')\n",
    "    for i in range(height):\n",
    "        for j  in range(width):\n",
    "            B = math.sqrt(img[i,j][0]*12)\n",
    "            G = img[i,j][1]\n",
    "            R = img[i,j][2]\n",
    "            if B>255:\n",
    "                B = 255\n",
    "            img3[i,j] = (B, G, R)\n",
    "    cv2.imshow('Fleeting_style',img3)\n",
    "    cv2.waitKey(0)\n",
    "    cv2.destroyAllWindows()\n",
    "fleeting_style(img)\n",
    "\n",
    "            "
   ]
  },
  {
   "cell_type": "code",
   "execution_count": null,
   "metadata": {},
   "outputs": [],
   "source": []
  }
 ],
 "metadata": {
  "kernelspec": {
   "display_name": "ML",
   "language": "python",
   "name": "python3"
  },
  "language_info": {
   "codemirror_mode": {
    "name": "ipython",
    "version": 3
   },
   "file_extension": ".py",
   "mimetype": "text/x-python",
   "name": "python",
   "nbconvert_exporter": "python",
   "pygments_lexer": "ipython3",
   "version": "3.10.14"
  }
 },
 "nbformat": 4,
 "nbformat_minor": 2
}
