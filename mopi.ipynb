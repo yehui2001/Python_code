{
 "cells": [
  {
   "cell_type": "code",
   "execution_count": 12,
   "metadata": {},
   "outputs": [],
   "source": [
    "import cv2\n",
    "import numpy as np\n",
    "\n",
    "def skin_smoothing(image, sigma_color=50, sigma_space=50, alpha=1.5):\n",
    "    # 转换颜色空间为 YCrCb\n",
    "    ycrcb = cv2.cvtColor(image, cv2.COLOR_BGR2YCrCb)\n",
    "    \n",
    "    # 使用双边滤波平滑图像\n",
    "    blurred = cv2.bilateralFilter(ycrcb, -1, sigma_color, sigma_space)\n",
    "    \n",
    "    # 使用导向滤波进一步平滑图像\n",
    "    guided = cv2.ximgproc.guidedFilter(ycrcb[:, :, 0].astype('float32'), blurred[:, :, 0].astype('float32'), radius=5, eps=0.01)\n",
    "\n",
    "    # 混合原始图像和平滑后的图像\n",
    "    mask = ycrcb[:, :, 0] - guided\n",
    "    masked_image = ycrcb[:, :, 0] + mask * alpha\n",
    "\n",
    "    # 将图像限制在合适的范围内\n",
    "    masked_image = cv2.merge([np.uint8(masked_image),np.uint8(ycrcb[:, :, 1]),np.uint8(ycrcb[:, :, 2])])\n",
    "    masked_image = cv2.cvtColor(masked_image, cv2.COLOR_YCrCb2BGR)\n",
    "    masked_image = np.clip(masked_image, 0, 255)\n",
    "\n",
    "    return masked_image\n",
    "\n",
    "# 读取图像\n",
    "image = cv2.imread('Images/mopi.jpeg')\n",
    "\n",
    "# 应用磨皮算法\n",
    "smoothed_image = skin_smoothing(image)\n",
    "\n",
    "# 显示结果\n",
    "cv2.imshow('Original Image', image)\n",
    "cv2.imshow('Skin Smoothing Result', smoothed_image)\n",
    "cv2.waitKey(0)\n",
    "cv2.destroyAllWindows()\n"
   ]
  }
 ],
 "metadata": {
  "kernelspec": {
   "display_name": "ML",
   "language": "python",
   "name": "python3"
  },
  "language_info": {
   "codemirror_mode": {
    "name": "ipython",
    "version": 3
   },
   "file_extension": ".py",
   "mimetype": "text/x-python",
   "name": "python",
   "nbconvert_exporter": "python",
   "pygments_lexer": "ipython3",
   "version": "3.9.15"
  }
 },
 "nbformat": 4,
 "nbformat_minor": 2
}
