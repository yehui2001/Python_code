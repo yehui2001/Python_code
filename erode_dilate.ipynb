{
 "cells": [
  {
   "cell_type": "code",
   "execution_count": null,
   "metadata": {},
   "outputs": [],
   "source": [
    "import numpy as np\n",
    "import cv2\n",
    "import matplotlib.pyplot as plt"
   ]
  },
  {
   "cell_type": "code",
   "execution_count": null,
   "metadata": {},
   "outputs": [],
   "source": [
    "def erode(img,kernel):\n",
    "    height, width = img.shape\n",
    "    h = kernel.shape[0]\n",
    "    w = kernel.shape[1]\n",
    "    erosion = np.zeros((height,width),np.uint8)\n",
    "    _,Result = cv2.threshold(img,66,1,cv2.THRESH_BINARY)                        # 将图像中的像素映射到0和1 主要调第二个参数值\n",
    "    for i in range(h//2,height-h//2):                                           # // 代表向下取整整除\n",
    "        for j in range(h//2,width-h//2):\n",
    "            if np.sum(Result[i-h//2:i+h//2+1,j-h//2:j+h//2+1]*kernel)< 9:       # *为普通的点乘 与运算\n",
    "                erosion[i,j] = 0                                                # 前景为白色,若该位置像素点不存在，则另其为0（黑色，背景色）\n",
    "            else:\n",
    "                erosion[i,j] = np.max(img[i-h//2:i+h//2+1,j-h//2:j+h//2+1])     # 取模板覆盖中的最大值\n",
    "    return erosion\n"
   ]
  },
  {
   "cell_type": "code",
   "execution_count": null,
   "metadata": {},
   "outputs": [],
   "source": [
    "def dilate(img,kernel):\n",
    "    height, width = img.shape\n",
    "    h = kernel.shape[0]\n",
    "    w = kernel.shape[1]\n",
    "    dilation = np.zeros((height,width),np.uint8)\n",
    "    _,Result = cv2.threshold(img,30,1,cv2.THRESH_BINARY)                        # 将图像中的像素映射到0和1 主要调第二个参数值\n",
    "    for i in range(h//2,height-h//2):                                           # // 代表向下取整整除\n",
    "        for j in range(h//2,width-h//2):\n",
    "            if np.sum(Result[i-h//2:i+h//2+1,j-h//2:j+h//2+1]*kernel)< 1:       # *为普通的点乘 与运算\n",
    "                dilation[i,j] = 0                                               # 前景为白色\n",
    "            else:\n",
    "                dilation[i,j] = np.max(img[i-h//2:i+h//2+1,j-h//2:j+h//2+1])\n",
    "    return dilation"
   ]
  },
  {
   "cell_type": "code",
   "execution_count": null,
   "metadata": {},
   "outputs": [],
   "source": [
    "img = cv2.imread('Images/words2.jpeg',0)\n",
    "info = img.shape\n",
    "height = info[0]\n",
    "width = info[1]\n",
    "cv2.imshow('Words',img)\n",
    "\n",
    "kernel = np.ones((3,3),np.uint8)   # 定义一个3*3的结构元素\n",
    "Erosion = erode(img,kernel)\n",
    "erosion = cv2.erode(img, kernel)   # 腐蚀   cv2.erode()函数默认白色为前景目标，黑色为背景\n",
    "dilation = cv2.dilate(img, kernel) # 膨胀\n",
    "Dilation = dilate(img,kernel)  \n",
    "cv2.imshow('Erode_Hand',Erosion)      \n",
    "cv2.imshow('Erode_OpenCv',erosion)    \n",
    "#cv2.imshow('Dilatione_OpenCv',dilation)\n",
    "#cv2.imshow('Dilatione_Hand',Dilation)\n",
    "cv2.waitKey(0)\n",
    "cv2.destroyAllWindows()"
   ]
  }
 ],
 "metadata": {
  "kernelspec": {
   "display_name": "ML",
   "language": "python",
   "name": "python3"
  },
  "language_info": {
   "codemirror_mode": {
    "name": "ipython",
    "version": 3
   },
   "file_extension": ".py",
   "mimetype": "text/x-python",
   "name": "python",
   "nbconvert_exporter": "python",
   "pygments_lexer": "ipython3",
   "version": "3.10.14"
  }
 },
 "nbformat": 4,
 "nbformat_minor": 2
}
