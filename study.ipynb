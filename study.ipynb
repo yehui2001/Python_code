{
 "cells": [
  {
   "cell_type": "code",
   "execution_count": 2,
   "metadata": {},
   "outputs": [],
   "source": [
    "import math as mt\n",
    "import pandas as pd\n",
    "import time as tm\n",
    "import datetime as dt"
   ]
  },
  {
   "cell_type": "code",
   "execution_count": 3,
   "metadata": {},
   "outputs": [],
   "source": [
    "\n",
    "file = r\"C:\\gs\\destop\\python\" # r 表示告诉python引号内仅为路径名称，防止识别成转义字符\\n \\t等"
   ]
  },
  {
   "cell_type": "code",
   "execution_count": 4,
   "metadata": {},
   "outputs": [],
   "source": [
    "i = 4"
   ]
  },
  {
   "cell_type": "code",
   "execution_count": 5,
   "metadata": {},
   "outputs": [
    {
     "name": "stdout",
     "output_type": "stream",
     "text": [
      "Hello,\n",
      "Mother Fucker!\n"
     ]
    }
   ],
   "source": [
    "c = '''Hello,\\nMother Fucker!'''\n",
    "print(c)"
   ]
  },
  {
   "cell_type": "code",
   "execution_count": 6,
   "metadata": {},
   "outputs": [
    {
     "name": "stdout",
     "output_type": "stream",
     "text": [
      "True\n",
      "False\n"
     ]
    }
   ],
   "source": [
    "s = \"Python\"\n",
    "print('Py' in s)\n",
    "print('py' in s)"
   ]
  },
  {
   "cell_type": "code",
   "execution_count": 7,
   "metadata": {},
   "outputs": [
    {
     "name": "stdout",
     "output_type": "stream",
     "text": [
      "t\n",
      "Pyth\n",
      "P hon\n",
      "Pytho\n"
     ]
    }
   ],
   "source": [
    "print(s[2])   #输出第三个字符\n",
    "print(s[0:4]) #输出前四个字符\n",
    "print(s[0:1],s[3:6])\n",
    "print(s[0:-1])#输出第一个到最后一个之前的字符"
   ]
  },
  {
   "cell_type": "code",
   "execution_count": 8,
   "metadata": {},
   "outputs": [
    {
     "name": "stdout",
     "output_type": "stream",
     "text": [
      "2023-03-05\n",
      "2023-03-05 21:15:54.686816\n",
      "2023-03-05 21:15:54.686831\n"
     ]
    }
   ],
   "source": [
    "print(dt.date.today())\n",
    "print(dt.datetime.today())\n",
    "print(dt.datetime.now())"
   ]
  },
  {
   "cell_type": "code",
   "execution_count": 9,
   "metadata": {},
   "outputs": [
    {
     "name": "stdout",
     "output_type": "stream",
     "text": [
      "[0, 1, 2, 3, 4, 5]\n",
      "王玉佩\n",
      "[0, 1, 2, '王玉佩', 4, 5]\n",
      "[0, 1, 2, '王玉佩', 4, 5, 'shabi', 'a', 'b']\n",
      "王玉佩\n",
      "[0, 1, 2, 4, 5, 'shabi', 'a', 'b']\n"
     ]
    }
   ],
   "source": [
    "# Python 数据结构\n",
    "\n",
    "#List(列表)\n",
    "\n",
    "mylist = [0,1,2,3,4,5]\n",
    "print(mylist)\n",
    "\n",
    "mylist[3] = \"王玉佩\"\n",
    "print(mylist[3])\n",
    "print(mylist)\n",
    "\n",
    "mylist.append('shabi') # add element to the tail\n",
    "mylist.extend(['a','b']) # merge\n",
    "print(mylist)\n",
    "\n",
    "print(mylist.pop(3)) #delete\n",
    "print(mylist)\n"
   ]
  },
  {
   "cell_type": "code",
   "execution_count": 10,
   "metadata": {},
   "outputs": [],
   "source": [
    "#Tuple(元组)\n",
    "\n"
   ]
  },
  {
   "cell_type": "code",
   "execution_count": null,
   "metadata": {},
   "outputs": [],
   "source": []
  }
 ],
 "metadata": {
  "kernelspec": {
   "display_name": "base",
   "language": "python",
   "name": "python3"
  },
  "language_info": {
   "codemirror_mode": {
    "name": "ipython",
    "version": 3
   },
   "file_extension": ".py",
   "mimetype": "text/x-python",
   "name": "python",
   "nbconvert_exporter": "python",
   "pygments_lexer": "ipython3",
   "version": "3.9.15"
  },
  "orig_nbformat": 4
 },
 "nbformat": 4,
 "nbformat_minor": 2
}
