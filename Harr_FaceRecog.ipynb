{
 "cells": [
  {
   "cell_type": "code",
   "execution_count": 1,
   "metadata": {},
   "outputs": [],
   "source": [
    "import cv2\n",
    "import numpy as np"
   ]
  },
  {
   "cell_type": "code",
   "execution_count": 1,
   "metadata": {},
   "outputs": [
    {
     "name": "stdout",
     "output_type": "stream",
     "text": [
      "188 33 305 305\n"
     ]
    }
   ],
   "source": [
    "import numpy as np\n",
    "import cv2 as cv\n",
    "# 读取图片\n",
    "img = cv.imread('Images/son.jpg')\n",
    "# 转换为灰度图片\n",
    "gray = cv.cvtColor(img, cv.COLOR_BGR2GRAY)\n",
    "\n",
    "# 人脸检测器\n",
    "face_cascade = cv.CascadeClassifier('C:\\\\Users\\\\Yehui_PC\\\\Miniconda3\\\\envs\\\\ML\\\\Lib\\\\site-packages\\\\cv2\\\\data\\\\haarcascade_frontalface_default.xml')\n",
    "\n",
    "# 识别人脸\n",
    "faces = face_cascade.detectMultiScale(gray,scaleFactor =1.05,minNeighbors=5)\n",
    "\n",
    "for (x,y,w,h) in faces:    \n",
    "\tprint(x,y,w,h)\n",
    "\t\n",
    "# 框出人脸\n",
    "cv.rectangle(img,(x,y),(x+w,y+h),(255,0,0),2)\n",
    "\n",
    "# 提取人脸\n",
    "face = img[y:y+h,x:x+w]\n",
    "\n",
    "# 保存人脸\n",
    "cv.imwrite('face.jpg',face)\n",
    "\n",
    "# 显示图片\n",
    "cv.imshow('image',img)\n",
    "\n",
    "# 等待按键\n",
    "cv.waitKey(0)\n",
    "\n",
    "# 释放窗口\n",
    "cv.destroyAllWindows()\n",
    "\t"
   ]
  }
 ],
 "metadata": {
  "kernelspec": {
   "display_name": "ML",
   "language": "python",
   "name": "python3"
  },
  "language_info": {
   "codemirror_mode": {
    "name": "ipython",
    "version": 3
   },
   "file_extension": ".py",
   "mimetype": "text/x-python",
   "name": "python",
   "nbconvert_exporter": "python",
   "pygments_lexer": "ipython3",
   "version": "3.9.15"
  }
 },
 "nbformat": 4,
 "nbformat_minor": 2
}
